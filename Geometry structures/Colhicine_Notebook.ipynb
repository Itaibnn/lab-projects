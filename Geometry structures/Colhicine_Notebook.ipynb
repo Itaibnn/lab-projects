{
 "cells": [
  {
   "cell_type": "markdown",
   "metadata": {},
   "source": [
    "<center>\n",
    "    <h1>Colchicine Notebook</h1>\n",
    "    <h3>Authors: Itai Ben-Nun, Ariel Cohen and Uri Raviv</h3>\n",
    "</center>"
   ]
  },
  {
   "cell_type": "markdown",
   "metadata": {},
   "source": [
    "## Supporting Libraries and functions ##"
   ]
  },
  {
   "cell_type": "markdown",
   "metadata": {},
   "source": [
    "### Libraries"
   ]
  },
  {
   "cell_type": "code",
   "execution_count": 1,
   "metadata": {},
   "outputs": [],
   "source": [
    "# Additional\n",
    "import numpy as np\n",
    "import matplotlib.pyplot as plt\n",
    "import os\n",
    "\n",
    "# D+ libraries\n",
    "from dplus.CalculationInput import CalculationInput\n",
    "from dplus.DataModels.models import PDB\n",
    "from dplus.DataModels import ManualSymmetry, Population\n",
    "from dplus.CalculationRunner import EmbeddedLocalRunner"
   ]
  },
  {
   "cell_type": "markdown",
   "metadata": {},
   "source": [
    "### Global Varbs"
   ]
  },
  {
   "cell_type": "code",
   "execution_count": 2,
   "metadata": {},
   "outputs": [],
   "source": [
    "pdb_col = 'Files/col_dimer.pdb'\n",
    "pdb_3j6f = 'Files/3j6f_Dimer.pdb'"
   ]
  },
  {
   "cell_type": "markdown",
   "metadata": {},
   "source": [
    "### Functions"
   ]
  },
  {
   "cell_type": "markdown",
   "metadata": {},
   "source": [
    "#### createDOL\n",
    "Creates DOL file from list/numpy matrix."
   ]
  },
  {
   "cell_type": "code",
   "execution_count": 3,
   "metadata": {},
   "outputs": [],
   "source": [
    "def createDOL(filename, DOL):\n",
    "        dolfile = open(filename + '.dol','w+')\n",
    "        for i in range(len(DOL)):\n",
    "               dolfile.write(str(i)+'\\t'+str(DOL[i][0])+'\\t'+str(DOL[i][1])+'\\t'+str(DOL[i][2])+'\\t'+str(DOL[i][3])+'\\t'+str(DOL[i][4])+'\\t'+str(DOL[i][5])+'\\n')      \n",
    "        dolfile.close()\n",
    "        print('DOL file ' + filename + ' has been created successfully!')"
   ]
  },
  {
   "cell_type": "markdown",
   "metadata": {},
   "source": [
    "#### rotateDOL\n",
    "Rotates DOL matrix using tait-byran rotation matrixes"
   ]
  },
  {
   "cell_type": "code",
   "execution_count": 4,
   "metadata": {},
   "outputs": [],
   "source": [
    "def rotateDOL(DOL, alpha_shift=0, beta_shift=0, gamma_shift=0, filename=''):\n",
    "    def A_x(angle):\n",
    "        return np.array([[1, 0, 0],\n",
    "                         [0, np.cos(angle), -np.sin(angle)],\n",
    "                         [0, np.sin(angle), np.cos(angle)]])\n",
    "\n",
    "    def A_y(angle):\n",
    "        return np.array([[np.cos(angle), 0, np.sin(angle)],\n",
    "                         [0, 1, 0],\n",
    "                         [-np.sin(angle), 0, np.cos(angle)]])\n",
    "\n",
    "    def A_z(angle):\n",
    "        return np.array([[np.cos(angle), -np.sin(angle), 0],\n",
    "                         [np.sin(angle), np.cos(angle), 0],\n",
    "                         [0, 0, 1]])\n",
    "    DOL_rotated = DOL.copy()\n",
    "\n",
    "    alpha_shift, beta_shift, gamma_shift = np.radians([alpha_shift, beta_shift, gamma_shift])\n",
    "    A = A_x(alpha_shift) @ A_y(beta_shift) @ A_z(gamma_shift)\n",
    "    for i in range(len(DOL_rotated)):\n",
    "        x, y, z = np.dot(A, DOL[i, :3])\n",
    "        alpha, beta, gamma = np.radians(DOL[i, 3:])\n",
    "\n",
    "        A_o = A_x(alpha) @ A_y(beta) @ A_z(gamma)  # Orientation Mat\n",
    "        A_o_tag = np.dot(A, A_o)\n",
    "        \n",
    "        # Euler Angles\n",
    "        beta_new = np.arcsin(A_o_tag[0, 2]) * 180 / np.pi\n",
    "        gamma_new = np.arctan2(-A_o_tag[0, 1], A_o_tag[0, 0]) * 180 / np.pi\n",
    "        alpha_new = np.arctan2(-A_o_tag[1, 2], A_o_tag[2, 2]) * 180 / np.pi\n",
    "\n",
    "        if gamma_new < 0:\n",
    "            gamma_new += 360\n",
    "        if beta_new < 0:\n",
    "            beta_new += 360\n",
    "        if alpha_new < 0:\n",
    "            alpha_new += 360\n",
    "\n",
    "        DOL_rotated[i, :] = [x, y, z, alpha_new, beta_new, gamma_new]\n",
    "\n",
    "    if filename:\n",
    "        createDOL(filename, DOL_rotated)\n",
    "    return DOL_rotated\n"
   ]
  },
  {
   "cell_type": "markdown",
   "metadata": {},
   "source": [
    "## Models"
   ]
  },
  {
   "cell_type": "markdown",
   "metadata": {},
   "source": [
    "### ITT"
   ]
  },
  {
   "cell_type": "code",
   "execution_count": 5,
   "metadata": {},
   "outputs": [],
   "source": [
    "def ITT(R, L_dim, h, pitch, alpha_shift=0, beta_shift=0, gamma_shift=0, filename=''):\n",
    "        p = pitch\n",
    "        L_turn = np.sqrt((2*np.pi * R)**2 + p**2) \n",
    "        i_max = int((h* L_turn)/(p * L_dim) + 1) \n",
    "        theta_dim = L_dim/ R\n",
    "        alpha = 90 - np.arcsin(p/L_turn) * 180/ np.pi + alpha_shift\n",
    "        c = 0\n",
    "        DOL = np.zeros([i_max, 6])\n",
    "        for i in range(i_max):\n",
    "                theta = np.remainder(i * theta_dim, np.pi * 2)\n",
    "                x = R * np.cos(theta)\n",
    "                y = R * np.sin(theta)\n",
    "                z = i * p * L_dim / L_turn\n",
    "                beta = (180 * theta / np.pi) + beta_shift\n",
    "                DOL[c] = [x, y, z, alpha, beta, gamma_shift]\n",
    "                c += 1\n",
    "        DOL[:, 2] -= np.max(DOL[:, 2])/2\n",
    "        if filename:\n",
    "                createDOL(filename, DOL)\n",
    "        return DOL"
   ]
  },
  {
   "cell_type": "markdown",
   "metadata": {},
   "source": [
    "### CST"
   ]
  },
  {
   "cell_type": "markdown",
   "metadata": {},
   "source": [
    "#### clacLen \n",
    "Calculate the length of the curve, S(t) function."
   ]
  },
  {
   "cell_type": "code",
   "execution_count": 6,
   "metadata": {},
   "outputs": [],
   "source": [
    "def calcLen(t, c, p, R):\n",
    "    term1 = ((p**2/(4*np.pi**2) + c**2 + R**2) * np.arcsinh((2*c**2*t - 2*R*c) / \n",
    "            np.sqrt(4*c**2 * (p**2/(4*np.pi**2) + c**2 + R**2) - 4*R**2*c**2))) / (2*c)\n",
    "    term2 = (R**2 * np.arcsinh((2*c**2*t - 2*R*c) / \n",
    "            np.sqrt(4*c**2 * (p**2/(4*np.pi**2) + c**2 + R**2) - 4*R**2*c**2))) / (2*c)\n",
    "    term3 = t * np.sqrt(c**2*t**2 - 2*R*c*t + p**2/(4*np.pi**2) + c**2 + R**2) / 2\n",
    "    term4 = R * np.sqrt(c**2*t**2 - 2*R*c*t + p**2/(4*np.pi**2) + c**2 + R**2) / (2*c)\n",
    "    return term1 - term2 + term3 - term4"
   ]
  },
  {
   "cell_type": "markdown",
   "metadata": {},
   "source": [
    "#### find_t\n",
    "Binary search with convergence tolerence eps in nm."
   ]
  },
  {
   "cell_type": "code",
   "execution_count": 7,
   "metadata": {},
   "outputs": [],
   "source": [
    "def find_t(t_max, c, p, R_min, R_max,L_pitch, eps=1e-14):\n",
    "        t_values = [0]\n",
    "        dt = R_max/L_pitch\n",
    "        L_max = calcLen(t_max,c,p,R_min) - calcLen(t_values[0],c,p,R_min) + L_pitch\n",
    "        L_t = calcLen(t_values[0],c,p,R_min) + L_pitch\n",
    "        while L_max - L_t > L_pitch:\n",
    "                t_low = t_values[-1]\n",
    "                t_high = t_low + dt\n",
    "                while t_high - t_low > eps:\n",
    "                        t_mid = (t_low + t_high) / 2\n",
    "                        L_mid = calcLen(t_mid, c, p, R_min) - calcLen(t_values[-1], c, p, R_min)\n",
    "                        if L_mid > L_pitch:\n",
    "                                t_high = t_mid\n",
    "                        else:\n",
    "                                t_low = t_mid\n",
    "                        next_t = t_low\n",
    "                if next_t - t_values[-1] < eps:\n",
    "                        break\n",
    "                t_values.append(next_t)\n",
    "                L_t = calcLen(t_values[-1],c,p,R_min) - calcLen(t_values[0],c,p,R_min) + L_pitch\n",
    "        return np.array(t_values)  "
   ]
  },
  {
   "cell_type": "markdown",
   "metadata": {},
   "source": [
    "#### CST\n",
    "Create single CST."
   ]
  },
  {
   "cell_type": "code",
   "execution_count": 8,
   "metadata": {},
   "outputs": [],
   "source": [
    "# loops is n, defines as the number of helical turns\n",
    "def CST(R_max, R_min, L_dim, pitch, loops=3, alpha_shift=0, beta_shift=0, gamma_shift=0, filename=''):\n",
    "        c_value = (R_max - R_min)/(2 * np.pi * loops)\n",
    "        t = find_t(2*np.pi*loops,c_value,pitch,R_min,R_max,L_dim, eps=1e-14)\n",
    "        dt = np.diff(t)\n",
    "        t = t[:-1]\n",
    "        N_tot = len(t)\n",
    "        DOL = np.zeros([N_tot, 6])\n",
    "        c = 0\n",
    "        for i in range(N_tot):\n",
    "                x = (R_max - c_value*t[i])*np.cos(t[i])\n",
    "                y = (R_max - c_value*t[i])*np.sin(t[i])\n",
    "                z = pitch/(2*np.pi) * t[i]\n",
    "                alpha = 90 - np.arcsin((pitch*dt[i])/(2*np.pi * L_dim)) * 180/ np.pi + alpha_shift\n",
    "                beta = (180 * t[i] / np.pi) + beta_shift\n",
    "                DOL[c] = [x, y, z, alpha, beta, gamma_shift]\n",
    "                c += 1\n",
    "        if filename:\n",
    "                createDOL(filename, DOL)\n",
    "        return DOL"
   ]
  },
  {
   "cell_type": "markdown",
   "metadata": {},
   "source": [
    "#### Vertical Repitions \n",
    "Duplicate CST units in z-axis."
   ]
  },
  {
   "cell_type": "code",
   "execution_count": 9,
   "metadata": {},
   "outputs": [],
   "source": [
    "def VerticalRep(DOL, repetitions=1, verticalSpacing=0, filename=''):\n",
    "    h = np.max(DOL[:, 2]) - np.min(DOL[:, 2])\n",
    "    Vh = h + verticalSpacing\n",
    "    VDOL, DOL2 = DOL.copy(), DOL.copy()\n",
    "    for i in range(1, repetitions):\n",
    "        DOL2[:, 2] += Vh\n",
    "        VDOL = np.vstack((VDOL,DOL2))\n",
    "\n",
    "    # Ensure center of mass\n",
    "    VDOL[:, 2] -= (np.max(VDOL[:, 2]) - np.min(VDOL[:, 2]))/2\n",
    "    if filename:\n",
    "        createDOL(filename, VDOL)\n",
    "    return VDOL"
   ]
  },
  {
   "cell_type": "markdown",
   "metadata": {},
   "source": [
    "## Bundles "
   ]
  },
  {
   "cell_type": "markdown",
   "metadata": {},
   "source": [
    "### Square Bundles"
   ]
  },
  {
   "cell_type": "code",
   "execution_count": 10,
   "metadata": {},
   "outputs": [],
   "source": [
    "def Square_Bundle(DOL, n1=3, n2=3, gamma_lat=90, horizontalSpacing=0, unitRad=False, antiParallel=False, filename=''):\n",
    "        if n1 + n2 < 2:\n",
    "                raise Exception('At least 2 layers is neccesery!')\n",
    "        if n1 == 1 and n2 == 1:\n",
    "               if filename:\n",
    "                      createDOL(filename, DOL)\n",
    "               return DOL\n",
    "        if not unitRad:\n",
    "                unitRad = np.max(np.sqrt(DOL[:, 0]**2 + DOL[:, 1]**2))\n",
    "                \n",
    "        gamma_lat -= 90        \n",
    "        gamma_lat *= np.pi / 180 # Degrees to Radians\n",
    "        \n",
    "        a = unitRad*2 + horizontalSpacing\n",
    "        a1x, a1y = a, 0\n",
    "        a2x, a2y = a * np.sin(gamma_lat), a * np.cos(gamma_lat)\n",
    "\n",
    "        n1 -= 1\n",
    "        n2 -= 1\n",
    "        Tx = (a1x * n1 + a2x * n2)/2\n",
    "        Ty = (a1y * n1 + a2y * n2)/2\n",
    "        n1, n2 = n1 + 1, n2 + 1\n",
    "        \n",
    "        DOL_Mirror = rotateDOL(DOL, 180)\n",
    "\n",
    "        SDOL = np.zeros([len(DOL)*n1*n2, 6])\n",
    "        c = 0\n",
    "        for i in range(n1):\n",
    "                for j in range(n2):\n",
    "                        cx = i * a1x + j * a2x - Tx\n",
    "                        cy = i * a1y + j * a2y - Ty\n",
    "                        theta_shift = np.arctan2(cy, cx) * 180 / np.pi\n",
    "                        DOL_i = rotateDOL(DOL,0,0,theta_shift, False)\n",
    "                        DOL_Mirror_i = rotateDOL(DOL_Mirror,0,0,theta_shift, False)\n",
    "                        for k in range(len(DOL)):\n",
    "                                if antiParallel and (i + j) % 2 == 1:\n",
    "                                        x, y, z, alpha, beta, gamma = DOL_Mirror_i[k]\n",
    "                                else:\n",
    "                                        x, y, z, alpha, beta, gamma = DOL_i[k]\n",
    "                                x += cx\n",
    "                                y += cy\n",
    "                                SDOL[c] = [x, y, z, alpha, beta, gamma]\n",
    "                                c += 1  \n",
    "\n",
    "        if filename:\n",
    "                createDOL(filename, SDOL)\n",
    "        return SDOL    \n",
    "\n"
   ]
  },
  {
   "cell_type": "markdown",
   "metadata": {},
   "source": [
    "### Hexagonal Bundles"
   ]
  },
  {
   "cell_type": "code",
   "execution_count": 11,
   "metadata": {},
   "outputs": [],
   "source": [
    "def Hexagonal_Bundle(DOL, layers=3, horizontalSpacing=0, unitRad=False, filename=''):\n",
    "        if layers < 1:\n",
    "                raise Exception('At least 2 layers is neccesery!')\n",
    "\n",
    "        if not unitRad:\n",
    "                unitRad = np.max(np.sqrt(DOL[:, 0]**2 + DOL[:, 1]**2))\n",
    "        a = unitRad*2 + horizontalSpacing\n",
    "\n",
    "        N_IT = np.insert(np.arange(6, layers*6,6,dtype=int), 0, 1)\n",
    "        HDOL = np.zeros([len(DOL)*np.sum(N_IT), 6])\n",
    "        c = 0\n",
    "        for IT in range(len(N_IT)):\n",
    "                if IT < 2:\n",
    "                        ringAngles = np.linspace(0, np.pi*2, N_IT[IT], endpoint=False) if N_IT[IT] > 0 else np.array([0])\n",
    "                        cx = a * IT * np.cos(ringAngles)\n",
    "                        cy = a * IT * np.sin(ringAngles)\n",
    "                else:\n",
    "                        ringAngles = np.linspace(0, np.pi*2, 6, endpoint=False)\n",
    "                        corner_cx = a * IT * np.cos(ringAngles)\n",
    "                        corner_cy = a * IT * np.sin(ringAngles)\n",
    "\n",
    "                        cx = np.array([])\n",
    "                        cy = np.array([])\n",
    "                        for i in range(6):\n",
    "                                x1, y1 = corner_cx[i], corner_cy[i]\n",
    "                                x2, y2 = corner_cx[(i + 1) % 6], corner_cy[(i + 1) % 6]\n",
    "                                for j in range(IT):\n",
    "                                        frac = j / IT\n",
    "                                        ring_x = x1 * (1 - frac) + x2 * frac\n",
    "                                        ring_y = y1 * (1 - frac) + y2 * frac\n",
    "                                        cx = np.append(cx, ring_x)\n",
    "                                        cy = np.append(cy, ring_y)          \n",
    "                for i in range(N_IT[IT]):\n",
    "                        theta_shift = np.arctan2(cy[i], cx[i]) * 180 / np.pi\n",
    "                        DOL_i = rotateDOL(DOL,0,0,theta_shift, False)\n",
    "                        for j in range(len(DOL)):\n",
    "                                x, y, z, alpha, beta, gamma = DOL_i[j]\n",
    "                                x += cx[i]\n",
    "                                y += cy[i]\n",
    "                                HDOL[c] = [x, y, z, alpha, beta, gamma]\n",
    "                                c += 1\n",
    "        if filename:\n",
    "                createDOL(filename, HDOL)\n",
    "        return HDOL"
   ]
  },
  {
   "cell_type": "markdown",
   "metadata": {},
   "source": [
    "## Run Models"
   ]
  },
  {
   "cell_type": "markdown",
   "metadata": {},
   "source": [
    "### Hexagonal ITT Bundle runner"
   ]
  },
  {
   "cell_type": "code",
   "execution_count": 12,
   "metadata": {},
   "outputs": [],
   "source": [
    "def hexagonal_ITT(folder, L_dim =8.3, horizontalSpacing=5.8, R = 22.3, h=50, pitch=0, alpha_shift=0, beta_shift=0, gamma_shift=0, layers=3,\n",
    "              q_min=0, q_max=2.5, grid_size=500, iter_method=1, iterations=1e6, signal_file=False,\n",
    "              outer = 364, pdb_method=4, pdb_type=pdb_col, alpha_pdb=0, beta_pdb=0, gamma_pdb=0,\n",
    "              sigma=0.01, suffix='', folderpath = 'Files'):\n",
    "    \n",
    "\n",
    "    runner = EmbeddedLocalRunner()\n",
    "\n",
    "    # Setting name for iter_method\n",
    "    if iter_method == 1:\n",
    "        iter_method = 'Monte Carlo (Mersenne Twister)'\n",
    "    elif iter_method == 2:\n",
    "        iter_method = 'Adaptive (VEGAS) Monte Carlo'\n",
    "    elif iter_method == 3:\n",
    "        iter_method = 'Adaptive Gauss Kronrod'\n",
    "\n",
    "    # Parameters for file names\n",
    "    dolname = 'dol_' + suffix\n",
    "    outname = 'out_' + suffix\n",
    "\n",
    "    # Create Folder, dol, info and save parameters\n",
    "    foldername = folder\n",
    "    fullfolderpath = os.path.join('.', folderpath, foldername)\n",
    "\n",
    "    # Create the directory and any necessary parent directories\n",
    "    os.makedirs(fullfolderpath, exist_ok=True)\n",
    "\n",
    "    filepath = f'./{folderpath}/{foldername}'\n",
    "\n",
    "    if not os.path.exists(filepath):\n",
    "        os.mkdir(filepath)\n",
    "\n",
    "    DO = ITT(R=R, L_dim=L_dim, h=h, pitch=pitch, alpha_shift=alpha_shift, beta_shift=beta_shift, gamma_shift=gamma_shift)\n",
    "    DO = Hexagonal_Bundle(DO, layers=layers, horizontalSpacing=horizontalSpacing, unitRad=False, filename=f'{filepath}/{dolname}')\n",
    "\n",
    "    # Actual code\n",
    "    state = CalculationInput()\n",
    "    state.use_gpu = True\n",
    "    state.DomainPreferences.q_max = q_max\n",
    "    state.DomainPreferences.q_min = q_min\n",
    "    state.DomainPreferences.grid_size= grid_size\n",
    "    if signal_file:\n",
    "        state.DomainPreferences.signal_file = f'./{folderpath}/{signal_file}'\n",
    "    state.Domain.constant= 0\n",
    "    state.Domain.scale= 1\n",
    "    state.DomainPreferences.apply_resolution = True\n",
    "    state.DomainPreferences.resolution_sigma = sigma\n",
    "    state.DomainPreferences.orientation_method = iter_method \n",
    "    state.DomainPreferences.orientation_iterations = iterations\n",
    "    state.DomainPreferences.convergence = 1e-3\n",
    "\n",
    "    my_PDB = PDB(pdb_type) \n",
    "    my_PDB.centered = True\n",
    "    my_PDB.extra_params.solvent_method.value = pdb_method\n",
    "    my_PDB.extra_params.solvent_ed.value = 334\n",
    "    my_PDB.extra_params.outer_solvent_ed.value = outer\n",
    "    my_PDB.location_params[\"gamma\"].value = gamma_pdb * np.pi/180\n",
    "    my_PDB.location_params[\"beta\"].value = beta_pdb * np.pi/180\n",
    "    my_PDB.location_params[\"alpha\"].value = alpha_pdb * np.pi/180\n",
    "\n",
    "    my_sym = ManualSymmetry()\n",
    "    my_sym.use_grid = True\n",
    "    my_sym.read_from_dol(folderpath + '/' + foldername + '/' + dolname + '.dol')   \n",
    "    my_sym.children.append(my_PDB)\n",
    "\n",
    "    state.Domain.populations[0].add_model(my_sym)\n",
    "    state.Domain.populations[0].population_size = 1 \n",
    "\n",
    "    #state.export_all_parameters(folderpath +'/' + foldername+ '/' + statename + '.state')\n",
    "\n",
    "    output = runner.generate(state)\n",
    "    output.save_to_out_file(folderpath + '/' + foldername + '/' + outname + '.out')\n",
    "    del runner, state, my_PDB, my_sym, output"
   ]
  },
  {
   "cell_type": "markdown",
   "metadata": {},
   "source": [
    "### Square CST Bundle runner"
   ]
  },
  {
   "cell_type": "code",
   "execution_count": 13,
   "metadata": {},
   "outputs": [],
   "source": [
    "def square_CST(folder, L_dim =8.3, pitch=5.2, T_dim=5.7, R_max = 22.3, R_min = 15, loops=3.2, \n",
    "                alpha_shift=20, beta_shift=0, gamma_shift=0, alpha_pdb=0, beta_pdb=0, gamma_pdb=0,\n",
    "              reps=10, verticalSpacing=-0.3, n1=3, n2=3, gamma_lat=105, horizontalSpacing = 0, square_antiParallel=True,\n",
    "              q_min=0, q_max=2.5, grid_size=250, iter_method=1, iterations=1e6, signal_file=False,\n",
    "              outer = 364, pdb_method=4, pdb_type=pdb_col, sigma=0.01, suffix='',  folderpath = 'Files'):\n",
    "    \n",
    "\n",
    "    runner = EmbeddedLocalRunner()\n",
    "\n",
    "    # Setting name for iter_method\n",
    "    if iter_method == 1:\n",
    "        iter_method = 'Monte Carlo (Mersenne Twister)'\n",
    "    elif iter_method == 2:\n",
    "        iter_method = 'Adaptive (VEGAS) Monte Carlo'\n",
    "    elif iter_method == 3:\n",
    "        iter_method = 'Adaptive Gauss Kronrod'\n",
    "\n",
    "    # Parameters for file names\n",
    "    dolname = 'dol_' + suffix\n",
    "    outname = 'out_' + suffix\n",
    "\n",
    "    # Create Folder, dol, info and save parameters\n",
    "    foldername = folder\n",
    "    fullfolderpath = os.path.join('.', folderpath, foldername)\n",
    "\n",
    "    # Create the directory and any necessary parent directories\n",
    "    os.makedirs(fullfolderpath, exist_ok=True)\n",
    "\n",
    "    filepath = f'./{folderpath}/{foldername}'\n",
    "\n",
    "    if not os.path.exists(filepath):\n",
    "        os.mkdir(filepath)\n",
    "    \n",
    "    horizontalSpacing += R_min - R_max + T_dim\n",
    "    \n",
    "    #pitchPerUnitSquare += R_min - R_max + T_dim\n",
    "    DO = CST(R_max, R_min, L_dim, pitch=pitch, loops=loops, alpha_shift=alpha_shift, beta_shift=beta_shift, gamma_shift=gamma_shift, filename='')\n",
    "    DO = VerticalRep(DO, repetitions=reps, verticalSpacing=verticalSpacing, filename='')\n",
    "    DO = Square_Bundle(DO, n1=n1, n2=n2, gamma_lat=gamma_lat, horizontalSpacing=horizontalSpacing, unitRad=False, antiParallel=square_antiParallel, filename=f'{filepath}/{dolname}')\n",
    "\n",
    "    # Actual code\n",
    "    state = CalculationInput()\n",
    "    state.use_gpu = True\n",
    "    state.DomainPreferences.q_max = q_max\n",
    "    state.DomainPreferences.q_min = q_min\n",
    "    state.DomainPreferences.grid_size= grid_size\n",
    "    if signal_file:\n",
    "        state.DomainPreferences.signal_file = f'./{folderpath}/{signal_file}'\n",
    "    state.Domain.constant= 0\n",
    "    state.Domain.scale= 1\n",
    "    state.DomainPreferences.apply_resolution = True\n",
    "    state.DomainPreferences.resolution_sigma = sigma\n",
    "    state.DomainPreferences.orientation_method = iter_method \n",
    "    state.DomainPreferences.orientation_iterations = iterations\n",
    "    state.DomainPreferences.convergence = 1e-3\n",
    "\n",
    "    my_PDB = PDB(pdb_type) \n",
    "    my_PDB.centered = True\n",
    "    my_PDB.extra_params.solvent_method.value = pdb_method\n",
    "    my_PDB.extra_params.solvent_ed.value = 334\n",
    "    my_PDB.extra_params.outer_solvent_ed.value = outer\n",
    "    my_PDB.location_params[\"gamma\"].value = gamma_pdb * np.pi/180\n",
    "    my_PDB.location_params[\"beta\"].value = beta_pdb * np.pi/180\n",
    "    my_PDB.location_params[\"alpha\"].value = alpha_pdb * np.pi/180\n",
    "\n",
    "    my_sym = ManualSymmetry()\n",
    "    my_sym.use_grid = True\n",
    "    my_sym.read_from_dol(folderpath + '/' + foldername + '/' + dolname + '.dol')   \n",
    "    my_sym.children.append(my_PDB)\n",
    "\n",
    "    state.Domain.populations[0].add_model(my_sym)\n",
    "    state.Domain.populations[0].population_size = 1 \n",
    "\n",
    "    #state.export_all_parameters(folderpath +'/' + foldername+ '/' + statename + '.state')\n",
    "    output = runner.generate(state)\n",
    "    output.save_to_out_file(folderpath + '/' + foldername + '/' + outname + '.out')\n",
    "    del runner, state, my_PDB, my_sym, output\n"
   ]
  },
  {
   "cell_type": "markdown",
   "metadata": {},
   "source": [
    "## Usage Examples"
   ]
  },
  {
   "cell_type": "markdown",
   "metadata": {},
   "source": [
    "### CST\n",
    "Modulating the structure of conical spiral tubules with colchicine."
   ]
  },
  {
   "cell_type": "markdown",
   "metadata": {},
   "source": [
    "####  $0\\, \\mu M$"
   ]
  },
  {
   "cell_type": "code",
   "execution_count": 14,
   "metadata": {},
   "outputs": [
    {
     "name": "stdout",
     "output_type": "stream",
     "text": [
      "DOL file ./Files/Model/CST/CST_0/dol_ has been created successfully!\n"
     ]
    }
   ],
   "source": [
    "square_CST(folder='Model/CST/CST_0', L_dim =8.3, pitch=5.6, T_dim=5.2, R_max = 21.5, R_min = 14.5, loops=3.4, \n",
    "                alpha_shift=20, beta_shift=0, gamma_shift=0, alpha_pdb=0, beta_pdb=0, gamma_pdb=0,\n",
    "              reps=4, verticalSpacing=-1.2, n1=4, n2=4, gamma_lat=105,horizontalSpacing = -1.8, square_antiParallel=True,\n",
    "              q_min=0, q_max=2.5, grid_size=250, iter_method=1, iterations=1e6, signal_file=False,\n",
    "              outer = 364, pdb_method=4, pdb_type=pdb_3j6f, sigma=0.01, suffix='',  folderpath = 'Files')"
   ]
  },
  {
   "cell_type": "markdown",
   "metadata": {},
   "source": [
    "####  $20\\, \\mu M$"
   ]
  },
  {
   "cell_type": "code",
   "execution_count": 15,
   "metadata": {},
   "outputs": [
    {
     "name": "stdout",
     "output_type": "stream",
     "text": [
      "DOL file ./Files/Model/CST/CST_20/dol_ has been created successfully!\n"
     ]
    }
   ],
   "source": [
    "square_CST(folder='Model/CST/CST_20', L_dim =8.3, pitch=5.6, T_dim=5.2, R_max = 21.5, R_min = 14.3, loops=3.4, \n",
    "                alpha_shift=20, beta_shift=0, gamma_shift=0, alpha_pdb=0, beta_pdb=0, gamma_pdb=0,\n",
    "              reps=4, verticalSpacing=-1, n1=3, n2=3, gamma_lat=105,horizontalSpacing = -1.8, square_antiParallel=True,\n",
    "              q_min=0, q_max=2.5, grid_size=250, iter_method=1, iterations=1e6, signal_file=False,\n",
    "              outer = 364, pdb_method=4, pdb_type=pdb_col, sigma=0.01, suffix='',  folderpath = 'Files')\n"
   ]
  },
  {
   "cell_type": "markdown",
   "metadata": {},
   "source": [
    "####  $40\\, \\mu M$ "
   ]
  },
  {
   "cell_type": "code",
   "execution_count": 16,
   "metadata": {},
   "outputs": [
    {
     "name": "stdout",
     "output_type": "stream",
     "text": [
      "DOL file ./Files/Model/CST/CST_40/dol_ has been created successfully!\n"
     ]
    }
   ],
   "source": [
    "square_CST(folder='Model/CST/CST_40', L_dim =8.3, pitch=5.7, T_dim=5.2, R_max = 21.0, R_min = 13.3, loops=3.4, \n",
    "                alpha_shift=20, beta_shift=0, gamma_shift=0, alpha_pdb=0, beta_pdb=0, gamma_pdb=0,\n",
    "              reps=4, verticalSpacing=-1.2, n1=4, n2=4, gamma_lat=105,horizontalSpacing =-1, square_antiParallel=True,\n",
    "              q_min=0, q_max=2.5, grid_size=250, iter_method=1, iterations=1e6, signal_file=False,\n",
    "              outer = 364, pdb_method=4, pdb_type=pdb_col, sigma=0.01, suffix='',  folderpath = 'Files')\n"
   ]
  },
  {
   "cell_type": "markdown",
   "metadata": {},
   "source": [
    "####  $80\\, \\mu M$ "
   ]
  },
  {
   "cell_type": "code",
   "execution_count": 17,
   "metadata": {},
   "outputs": [
    {
     "name": "stdout",
     "output_type": "stream",
     "text": [
      "DOL file ./Files/Model/CST/CST_20/dol_ has been created successfully!\n"
     ]
    }
   ],
   "source": [
    "square_CST(folder='Model/CST/CST_20', L_dim =8.3, pitch=5.7, T_dim=5.2, R_max = 21, R_min = 12.8, loops=3.4, \n",
    "                alpha_shift=20, beta_shift=0, gamma_shift=0, alpha_pdb=0, beta_pdb=0, gamma_pdb=0,\n",
    "              reps=6, verticalSpacing=-1.2, n1=4, n2=4, gamma_lat=105,horizontalSpacing = -1, square_antiParallel=True,\n",
    "              q_min=0, q_max=2.5, grid_size=250, iter_method=1, iterations=1e6, signal_file=False,\n",
    "              outer = 364, pdb_method=4, pdb_type=pdb_col, sigma=0.01, suffix='',  folderpath = 'Files')\n"
   ]
  },
  {
   "cell_type": "markdown",
   "metadata": {},
   "source": [
    "### ITT\n",
    " Modulating the structure of helical tubules with colchicine."
   ]
  },
  {
   "cell_type": "markdown",
   "metadata": {},
   "source": [
    "####  $0\\, \\mu M$"
   ]
  },
  {
   "cell_type": "code",
   "execution_count": 18,
   "metadata": {},
   "outputs": [
    {
     "name": "stdout",
     "output_type": "stream",
     "text": [
      "DOL file ./Files/Model/ITT/ITT_0/dol_ITT_0M_Short has been created successfully!\n",
      "DOL file ./Files/Model/ITT/ITT_0/dol_ITT_0M has been created successfully!\n"
     ]
    }
   ],
   "source": [
    "# Generates single short unit\n",
    "hexagonal_ITT(folder='Model/ITT/ITT_0', L_dim =9, pitch=5.2, R=20.3, h=5, alpha_shift=0, beta_shift=0, gamma_shift=30,\n",
    "              layers=1, horizontalSpacing = 7.5, \n",
    "              q_min=0, q_max=2.5, grid_size=250, iter_method=1, iterations=1e6, signal_file=False,\n",
    "              outer = 364, pdb_method=4, pdb_type=pdb_col, alpha_pdb=22, beta_pdb=0, gamma_pdb=0,\n",
    "              sigma=0.02, suffix='ITT_0M_Short', folderpath = 'Files')\n",
    "    \n",
    "# Generates full hexagonal structure\n",
    "hexagonal_ITT(folder='Model/ITT/ITT_0', L_dim =9, pitch=5.2, R=20.3, h=99, alpha_shift=0, beta_shift=0, gamma_shift=30,\n",
    "              layers=4, horizontalSpacing = 7.5, \n",
    "              q_min=0, q_max=2.5, grid_size=250, iter_method=1, iterations=1e6, signal_file=False,\n",
    "              outer = 364, pdb_method=4, pdb_type=pdb_col, alpha_pdb=22, beta_pdb=0, gamma_pdb=0,\n",
    "              sigma=0.02, suffix='ITT_0M', folderpath = 'Files')\n",
    "    \n"
   ]
  },
  {
   "cell_type": "markdown",
   "metadata": {},
   "source": [
    "####  $20\\, \\mu M$"
   ]
  },
  {
   "cell_type": "code",
   "execution_count": 19,
   "metadata": {},
   "outputs": [
    {
     "name": "stdout",
     "output_type": "stream",
     "text": [
      "DOL file ./Files/Model/ITT/ITT_20/dol_ITT_20M_Short has been created successfully!\n",
      "DOL file ./Files/Model/ITT/ITT_20/dol_ITT_20M has been created successfully!\n"
     ]
    }
   ],
   "source": [
    "# Generates single short unit\n",
    "hexagonal_ITT(folder='Model/ITT/ITT_20', L_dim =9, pitch=5.2, R=19.5, h=5, alpha_shift=0, beta_shift=0, gamma_shift=30,\n",
    "              layers=1, horizontalSpacing = 5, \n",
    "              q_min=0, q_max=2.5, grid_size=250, iter_method=1, iterations=1e6, signal_file=False,\n",
    "              outer = 364, pdb_method=4, pdb_type=pdb_col, alpha_pdb=22, beta_pdb=0, gamma_pdb=0,\n",
    "              sigma=0.02, suffix='ITT_20M_Short', folderpath = 'Files')\n",
    "    \n",
    "# Generates full hexagonal structure\n",
    "hexagonal_ITT(folder='Model/ITT/ITT_20', L_dim =9, pitch=5.2, R=19.5, h=99, alpha_shift=0, beta_shift=0, gamma_shift=30,\n",
    "              layers=4, horizontalSpacing = 5, \n",
    "              q_min=0, q_max=2.5, grid_size=250, iter_method=1, iterations=1e6, signal_file=False,\n",
    "              outer = 364, pdb_method=4, pdb_type=pdb_col, alpha_pdb=22, beta_pdb=0, gamma_pdb=0,\n",
    "              sigma=0.02, suffix='ITT_20M', folderpath = 'Files')\n",
    "\n"
   ]
  },
  {
   "cell_type": "markdown",
   "metadata": {},
   "source": [
    "####  $40\\, \\mu M$"
   ]
  },
  {
   "cell_type": "code",
   "execution_count": 20,
   "metadata": {},
   "outputs": [
    {
     "name": "stdout",
     "output_type": "stream",
     "text": [
      "DOL file ./Files/Model/ITT/ITT_40/dol_ITT_40M_Short has been created successfully!\n",
      "DOL file ./Files/Model/ITT/ITT_40/dol_ITT_40M has been created successfully!\n"
     ]
    }
   ],
   "source": [
    "# Generates single short unit\n",
    "hexagonal_ITT(folder='Model/ITT/ITT_40', L_dim =9, pitch=5.2, R=18.7, h=5, alpha_shift=0, beta_shift=0, gamma_shift=30,\n",
    "              layers=1, horizontalSpacing = 5, \n",
    "              q_min=0, q_max=2.5, grid_size=250, iter_method=1, iterations=1e6, signal_file=False,\n",
    "              outer = 364, pdb_method=4, pdb_type=pdb_col, alpha_pdb=22, beta_pdb=0, gamma_pdb=0,\n",
    "              sigma=0.02, suffix='ITT_40M_Short', folderpath = 'Files')\n",
    "    \n",
    "# Generates full hexagonal structure\n",
    "hexagonal_ITT(folder='Model/ITT/ITT_40', L_dim =9, pitch=5.2, R=18.7, h=99, alpha_shift=0, beta_shift=0, gamma_shift=30,\n",
    "              layers=4, horizontalSpacing = 5, \n",
    "              q_min=0, q_max=2.5, grid_size=250, iter_method=1, iterations=1e6, signal_file=False,\n",
    "              outer = 364, pdb_method=4, pdb_type=pdb_col, alpha_pdb=22, beta_pdb=0, gamma_pdb=0,\n",
    "              sigma=0.02, suffix='ITT_40M', folderpath = 'Files')\n"
   ]
  },
  {
   "cell_type": "markdown",
   "metadata": {},
   "source": [
    "####  $80\\, \\mu M$"
   ]
  },
  {
   "cell_type": "code",
   "execution_count": 21,
   "metadata": {},
   "outputs": [
    {
     "name": "stdout",
     "output_type": "stream",
     "text": [
      "DOL file ./Files/Model/ITT/ITT_80/dol_ITT_80M_Short has been created successfully!\n",
      "DOL file ./Files/Model/ITT/ITT_80/dol_ITT_80M has been created successfully!\n"
     ]
    }
   ],
   "source": [
    "# Generates single short unit\n",
    "hexagonal_ITT(folder='Model/ITT/ITT_80', L_dim =9, pitch=5.2, R=18, h=5, alpha_shift=0, beta_shift=0, gamma_shift=30,\n",
    "              layers=1, horizontalSpacing = 5, \n",
    "              q_min=0, q_max=2.5, grid_size=250, iter_method=1, iterations=1e6, signal_file=False,\n",
    "              outer = 364, pdb_method=4, pdb_type=pdb_col, alpha_pdb=22, beta_pdb=0, gamma_pdb=0,\n",
    "              sigma=0.02, suffix='ITT_80M_Short', folderpath = 'Files')\n",
    "    \n",
    "# Generates full hexagonal structure\n",
    "hexagonal_ITT(folder='Model/ITT/ITT_80', L_dim =9, pitch=5.2, R=18, h=99, alpha_shift=0, beta_shift=0, gamma_shift=30,\n",
    "              layers=4, horizontalSpacing = 5, \n",
    "              q_min=0, q_max=2.5, grid_size=250, iter_method=1, iterations=1e6, signal_file=False,\n",
    "              outer = 364, pdb_method=4, pdb_type=pdb_col, alpha_pdb=22, beta_pdb=0, gamma_pdb=0,\n",
    "              sigma=0.02, suffix='ITT_80M', folderpath = 'Files')\n",
    "\n"
   ]
  }
 ],
 "metadata": {
  "kernelspec": {
   "display_name": "base",
   "language": "python",
   "name": "python3"
  },
  "language_info": {
   "codemirror_mode": {
    "name": "ipython",
    "version": 3
   },
   "file_extension": ".py",
   "mimetype": "text/x-python",
   "name": "python",
   "nbconvert_exporter": "python",
   "pygments_lexer": "ipython3",
   "version": "3.11.5"
  }
 },
 "nbformat": 4,
 "nbformat_minor": 2
}
